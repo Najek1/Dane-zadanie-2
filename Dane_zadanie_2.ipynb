{
  "nbformat": 4,
  "nbformat_minor": 0,
  "metadata": {
    "colab": {
      "provenance": [],
      "authorship_tag": "ABX9TyMnRBxLTqDlw4oV+dH/sOYZ",
      "include_colab_link": true
    },
    "kernelspec": {
      "name": "python3",
      "display_name": "Python 3"
    },
    "language_info": {
      "name": "python"
    }
  },
  "cells": [
    {
      "cell_type": "markdown",
      "metadata": {
        "id": "view-in-github",
        "colab_type": "text"
      },
      "source": [
        "<a href=\"https://colab.research.google.com/github/Najek1/Dane-zadanie-2/blob/main/Dane_zadanie_2.ipynb\" target=\"_parent\"><img src=\"https://colab.research.google.com/assets/colab-badge.svg\" alt=\"Open In Colab\"/></a>"
      ]
    },
    {
      "cell_type": "markdown",
      "source": [
        "Polecenie: Napisz program, który wczyta plik tekstowy zawierający opinie (np. recenzje, komentarze). Program powinien przeprowadzić analizę sentimentu (pozytywne, negatywne, neutralne) dla każdego komentarza i zapisać wyniki do pliku. Algorytm analizy sentimentu powinien być prosty, oparty na zliczaniu słów z predefiniowanych list.\n",
        "\n",
        "Opis pliku wejściowego: Plik comments.txt zawiera 100 komentarzy, każdy w oddzielnej linii.\n",
        "\n",
        "Instrukcja do umieszczenia kodu w notebooku: Umieść opracowany kod w notebooku online z dokładnymi opisami i komentarzami. Notebook powinien być obliczony dla przykładowych danych (comments.txt) i umożliwiać wczytywanie nowych danych przez użytkownika. Wyniki analizy mają być zapisane do pliku sentiment_results.txt."
      ],
      "metadata": {
        "id": "2NuYoyh1JGxy"
      }
    },
    {
      "cell_type": "code",
      "source": [
        "neutralne = []\n",
        "pozytywne = []\n",
        "negatywne = []\n",
        "\n",
        "fname = input('Podaj nazwę pliku: ')\n",
        "fhand = open(fname, 'r', encoding='utf-8')\n",
        "\n",
        "\n",
        "for line in fhand:\n",
        "\n",
        "    line = line.rstrip()\n",
        "\n",
        "    line = line.rstrip()\n",
        "\n",
        "    line = line.rstrip()\n",
        "\n",
        "    if line.startswith('To jest bardzo dobry') or line.startswith('To jest naprawdę świetny') or line.startswith('To jest naprawdę dobry') or line.startswith('To jest naprawdę wspaniały') or line.startswith('To jest bardzo świetny') or line.startswith('To jest bardzo wspaniały'):\n",
        "            pozytywne.append(line)\n",
        "\n",
        "    if line.startswith('To jest dość') or line.startswith('To jest całkiem'):\n",
        "            neutralne.append(line)\n",
        "\n",
        "    if line.startswith('To jest naprawdę okropny') or line.startswith('To jest naprawdę zły') or line.startswith('To jest naprawdę fatalny') or line.startswith('To jest bardzo zły') or line.startswith('To jest bardzo okropny') or line.startswith('To jest bardzo fatalny'):\n",
        "            negatywne.append(line)\n",
        "\n",
        "fhand.close()\n",
        "\n",
        "fout = open('sentiment_results.txt', 'w', encoding='utf-8')\n",
        "\n",
        "fout.write('Pozytywne: ' + '\\n')\n",
        "\n",
        "for line in pozytywne:\n",
        "    fout.write(line + '\\n')\n",
        "\n",
        "fout.write('\\n')\n",
        "fout.write('\\n')\n",
        "\n",
        "fout.write('Neutralne: ' + '\\n')\n",
        "\n",
        "for line in neutralne:\n",
        "    fout.write(line + '\\n')\n",
        "\n",
        "fout.write('\\n')\n",
        "fout.write('\\n')\n",
        "\n",
        "fout.write('Negatywne: ' + '\\n')\n",
        "\n",
        "for line in negatywne:\n",
        "     fout.write(line + '\\n')\n",
        "\n",
        "fout.close()"
      ],
      "metadata": {
        "id": "6MOFcYZSJWW7"
      },
      "execution_count": null,
      "outputs": []
    }
  ]
}